{
 "cells": [
  {
   "cell_type": "markdown",
   "id": "d88975c0",
   "metadata": {},
   "source": [
    "## Statistical Modeling, Part 1: Linear Regression\n",
    "\n",
    "In this exercise, you'll get a chance to practice building and analyzing linear models using the data from the UN exercise."
   ]
  },
  {
   "cell_type": "code",
   "execution_count": 1,
   "id": "49e353a7",
   "metadata": {},
   "outputs": [],
   "source": [
    "import pandas as pd\n",
    "import statsmodels.api as sm\n",
    "import statsmodels.formula.api as smf\n",
    "import numpy as np\n",
    "import matplotlib.pyplot as plt"
   ]
  },
  {
   "cell_type": "markdown",
   "id": "c86ac6da",
   "metadata": {},
   "source": [
    "You'll be working with the combined gdp and life expectancy data."
   ]
  },
  {
   "cell_type": "code",
   "execution_count": 2,
   "id": "3ec5ec3b",
   "metadata": {},
   "outputs": [],
   "source": [
    "gdp_le = pd.read_csv('../data/gdp_le.csv').dropna()"
   ]
  },
  {
   "cell_type": "code",
   "execution_count": 3,
   "id": "038b2abc",
   "metadata": {},
   "outputs": [
    {
     "data": {
      "text/html": [
       "<div>\n",
       "<style scoped>\n",
       "    .dataframe tbody tr th:only-of-type {\n",
       "        vertical-align: middle;\n",
       "    }\n",
       "\n",
       "    .dataframe tbody tr th {\n",
       "        vertical-align: top;\n",
       "    }\n",
       "\n",
       "    .dataframe thead th {\n",
       "        text-align: right;\n",
       "    }\n",
       "</style>\n",
       "<table border=\"1\" class=\"dataframe\">\n",
       "  <thead>\n",
       "    <tr style=\"text-align: right;\">\n",
       "      <th></th>\n",
       "      <th>Country</th>\n",
       "      <th>Year</th>\n",
       "      <th>GDP_Per_Capita</th>\n",
       "      <th>Continent</th>\n",
       "      <th>Life_Expectancy</th>\n",
       "    </tr>\n",
       "  </thead>\n",
       "  <tbody>\n",
       "    <tr>\n",
       "      <th>0</th>\n",
       "      <td>Afghanistan</td>\n",
       "      <td>2019</td>\n",
       "      <td>2065.036398</td>\n",
       "      <td>Asia</td>\n",
       "      <td>64.833</td>\n",
       "    </tr>\n",
       "    <tr>\n",
       "      <th>1</th>\n",
       "      <td>Afghanistan</td>\n",
       "      <td>2018</td>\n",
       "      <td>2033.779002</td>\n",
       "      <td>Asia</td>\n",
       "      <td>64.486</td>\n",
       "    </tr>\n",
       "    <tr>\n",
       "      <th>2</th>\n",
       "      <td>Afghanistan</td>\n",
       "      <td>2017</td>\n",
       "      <td>2058.383832</td>\n",
       "      <td>Asia</td>\n",
       "      <td>64.130</td>\n",
       "    </tr>\n",
       "    <tr>\n",
       "      <th>3</th>\n",
       "      <td>Afghanistan</td>\n",
       "      <td>2016</td>\n",
       "      <td>2057.062164</td>\n",
       "      <td>Asia</td>\n",
       "      <td>63.763</td>\n",
       "    </tr>\n",
       "    <tr>\n",
       "      <th>4</th>\n",
       "      <td>Afghanistan</td>\n",
       "      <td>2015</td>\n",
       "      <td>2068.265904</td>\n",
       "      <td>Asia</td>\n",
       "      <td>63.377</td>\n",
       "    </tr>\n",
       "    <tr>\n",
       "      <th>...</th>\n",
       "      <td>...</td>\n",
       "      <td>...</td>\n",
       "      <td>...</td>\n",
       "      <td>...</td>\n",
       "      <td>...</td>\n",
       "    </tr>\n",
       "    <tr>\n",
       "      <th>5109</th>\n",
       "      <td>Zimbabwe</td>\n",
       "      <td>1994</td>\n",
       "      <td>3263.934978</td>\n",
       "      <td>Africa</td>\n",
       "      <td>52.044</td>\n",
       "    </tr>\n",
       "    <tr>\n",
       "      <th>5110</th>\n",
       "      <td>Zimbabwe</td>\n",
       "      <td>1993</td>\n",
       "      <td>3033.504852</td>\n",
       "      <td>Africa</td>\n",
       "      <td>53.653</td>\n",
       "    </tr>\n",
       "    <tr>\n",
       "      <th>5111</th>\n",
       "      <td>Zimbabwe</td>\n",
       "      <td>1992</td>\n",
       "      <td>3054.889178</td>\n",
       "      <td>Africa</td>\n",
       "      <td>55.243</td>\n",
       "    </tr>\n",
       "    <tr>\n",
       "      <th>5112</th>\n",
       "      <td>Zimbabwe</td>\n",
       "      <td>1991</td>\n",
       "      <td>3426.598094</td>\n",
       "      <td>Africa</td>\n",
       "      <td>56.749</td>\n",
       "    </tr>\n",
       "    <tr>\n",
       "      <th>5113</th>\n",
       "      <td>Zimbabwe</td>\n",
       "      <td>1990</td>\n",
       "      <td>3324.348171</td>\n",
       "      <td>Africa</td>\n",
       "      <td>58.100</td>\n",
       "    </tr>\n",
       "  </tbody>\n",
       "</table>\n",
       "<p>4922 rows × 5 columns</p>\n",
       "</div>"
      ],
      "text/plain": [
       "          Country  Year  GDP_Per_Capita Continent  Life_Expectancy\n",
       "0     Afghanistan  2019     2065.036398      Asia           64.833\n",
       "1     Afghanistan  2018     2033.779002      Asia           64.486\n",
       "2     Afghanistan  2017     2058.383832      Asia           64.130\n",
       "3     Afghanistan  2016     2057.062164      Asia           63.763\n",
       "4     Afghanistan  2015     2068.265904      Asia           63.377\n",
       "...           ...   ...             ...       ...              ...\n",
       "5109     Zimbabwe  1994     3263.934978    Africa           52.044\n",
       "5110     Zimbabwe  1993     3033.504852    Africa           53.653\n",
       "5111     Zimbabwe  1992     3054.889178    Africa           55.243\n",
       "5112     Zimbabwe  1991     3426.598094    Africa           56.749\n",
       "5113     Zimbabwe  1990     3324.348171    Africa           58.100\n",
       "\n",
       "[4922 rows x 5 columns]"
      ]
     },
     "execution_count": 3,
     "metadata": {},
     "output_type": "execute_result"
    }
   ],
   "source": [
    "gdp_le"
   ]
  },
  {
   "cell_type": "markdown",
   "id": "daa6aede",
   "metadata": {},
   "source": [
    "### Part 1: Analyzing 2019"
   ]
  },
  {
   "cell_type": "markdown",
   "id": "f72320c1",
   "metadata": {},
   "source": [
    "For this part, we'll look at our dataset just for the year 2019."
   ]
  },
  {
   "cell_type": "code",
   "execution_count": 4,
   "id": "8e24363a",
   "metadata": {},
   "outputs": [],
   "source": [
    "gdp_le_2019 = gdp_le[gdp_le['Year'] == 2019].copy()"
   ]
  },
  {
   "cell_type": "markdown",
   "id": "86e4454f",
   "metadata": {},
   "source": [
    "Fit a linear regression model on the 2019 data with target variable life expenctancy and predictor variable GDP per capita."
   ]
  },
  {
   "cell_type": "code",
   "execution_count": 5,
   "id": "29df7bbf",
   "metadata": {},
   "outputs": [
    {
     "data": {
      "text/html": [
       "<table class=\"simpletable\">\n",
       "<caption>OLS Regression Results</caption>\n",
       "<tr>\n",
       "  <th>Dep. Variable:</th>     <td>Life_Expectancy</td> <th>  R-squared:         </th> <td>   0.503</td>\n",
       "</tr>\n",
       "<tr>\n",
       "  <th>Model:</th>                   <td>OLS</td>       <th>  Adj. R-squared:    </th> <td>   0.500</td>\n",
       "</tr>\n",
       "<tr>\n",
       "  <th>Method:</th>             <td>Least Squares</td>  <th>  F-statistic:       </th> <td>   166.8</td>\n",
       "</tr>\n",
       "<tr>\n",
       "  <th>Date:</th>             <td>Sat, 30 Sep 2023</td> <th>  Prob (F-statistic):</th> <td>8.13e-27</td>\n",
       "</tr>\n",
       "<tr>\n",
       "  <th>Time:</th>                 <td>13:37:40</td>     <th>  Log-Likelihood:    </th> <td> -513.64</td>\n",
       "</tr>\n",
       "<tr>\n",
       "  <th>No. Observations:</th>      <td>   167</td>      <th>  AIC:               </th> <td>   1031.</td>\n",
       "</tr>\n",
       "<tr>\n",
       "  <th>Df Residuals:</th>          <td>   165</td>      <th>  BIC:               </th> <td>   1038.</td>\n",
       "</tr>\n",
       "<tr>\n",
       "  <th>Df Model:</th>              <td>     1</td>      <th>                     </th>     <td> </td>   \n",
       "</tr>\n",
       "<tr>\n",
       "  <th>Covariance Type:</th>      <td>nonrobust</td>    <th>                     </th>     <td> </td>   \n",
       "</tr>\n",
       "</table>\n",
       "<table class=\"simpletable\">\n",
       "<tr>\n",
       "         <td></td>           <th>coef</th>     <th>std err</th>      <th>t</th>      <th>P>|t|</th>  <th>[0.025</th>    <th>0.975]</th>  \n",
       "</tr>\n",
       "<tr>\n",
       "  <th>Intercept</th>      <td>   67.9940</td> <td>    0.566</td> <td>  120.197</td> <td> 0.000</td> <td>   66.877</td> <td>   69.111</td>\n",
       "</tr>\n",
       "<tr>\n",
       "  <th>GDP_Per_Capita</th> <td>    0.0002</td> <td> 1.79e-05</td> <td>   12.915</td> <td> 0.000</td> <td>    0.000</td> <td>    0.000</td>\n",
       "</tr>\n",
       "</table>\n",
       "<table class=\"simpletable\">\n",
       "<tr>\n",
       "  <th>Omnibus:</th>       <td>20.455</td> <th>  Durbin-Watson:     </th> <td>   1.919</td>\n",
       "</tr>\n",
       "<tr>\n",
       "  <th>Prob(Omnibus):</th> <td> 0.000</td> <th>  Jarque-Bera (JB):  </th> <td>  24.319</td>\n",
       "</tr>\n",
       "<tr>\n",
       "  <th>Skew:</th>          <td>-0.923</td> <th>  Prob(JB):          </th> <td>5.24e-06</td>\n",
       "</tr>\n",
       "<tr>\n",
       "  <th>Kurtosis:</th>      <td> 3.295</td> <th>  Cond. No.          </th> <td>4.39e+04</td>\n",
       "</tr>\n",
       "</table><br/><br/>Notes:<br/>[1] Standard Errors assume that the covariance matrix of the errors is correctly specified.<br/>[2] The condition number is large, 4.39e+04. This might indicate that there are<br/>strong multicollinearity or other numerical problems."
      ],
      "text/latex": [
       "\\begin{center}\n",
       "\\begin{tabular}{lclc}\n",
       "\\toprule\n",
       "\\textbf{Dep. Variable:}    & Life\\_Expectancy & \\textbf{  R-squared:         } &     0.503   \\\\\n",
       "\\textbf{Model:}            &       OLS        & \\textbf{  Adj. R-squared:    } &     0.500   \\\\\n",
       "\\textbf{Method:}           &  Least Squares   & \\textbf{  F-statistic:       } &     166.8   \\\\\n",
       "\\textbf{Date:}             & Sat, 30 Sep 2023 & \\textbf{  Prob (F-statistic):} &  8.13e-27   \\\\\n",
       "\\textbf{Time:}             &     13:37:40     & \\textbf{  Log-Likelihood:    } &   -513.64   \\\\\n",
       "\\textbf{No. Observations:} &         167      & \\textbf{  AIC:               } &     1031.   \\\\\n",
       "\\textbf{Df Residuals:}     &         165      & \\textbf{  BIC:               } &     1038.   \\\\\n",
       "\\textbf{Df Model:}         &           1      & \\textbf{                     } &             \\\\\n",
       "\\textbf{Covariance Type:}  &    nonrobust     & \\textbf{                     } &             \\\\\n",
       "\\bottomrule\n",
       "\\end{tabular}\n",
       "\\begin{tabular}{lcccccc}\n",
       "                          & \\textbf{coef} & \\textbf{std err} & \\textbf{t} & \\textbf{P$> |$t$|$} & \\textbf{[0.025} & \\textbf{0.975]}  \\\\\n",
       "\\midrule\n",
       "\\textbf{Intercept}        &      67.9940  &        0.566     &   120.197  &         0.000        &       66.877    &       69.111     \\\\\n",
       "\\textbf{GDP\\_Per\\_Capita} &       0.0002  &     1.79e-05     &    12.915  &         0.000        &        0.000    &        0.000     \\\\\n",
       "\\bottomrule\n",
       "\\end{tabular}\n",
       "\\begin{tabular}{lclc}\n",
       "\\textbf{Omnibus:}       & 20.455 & \\textbf{  Durbin-Watson:     } &    1.919  \\\\\n",
       "\\textbf{Prob(Omnibus):} &  0.000 & \\textbf{  Jarque-Bera (JB):  } &   24.319  \\\\\n",
       "\\textbf{Skew:}          & -0.923 & \\textbf{  Prob(JB):          } & 5.24e-06  \\\\\n",
       "\\textbf{Kurtosis:}      &  3.295 & \\textbf{  Cond. No.          } & 4.39e+04  \\\\\n",
       "\\bottomrule\n",
       "\\end{tabular}\n",
       "%\\caption{OLS Regression Results}\n",
       "\\end{center}\n",
       "\n",
       "Notes: \\newline\n",
       " [1] Standard Errors assume that the covariance matrix of the errors is correctly specified. \\newline\n",
       " [2] The condition number is large, 4.39e+04. This might indicate that there are \\newline\n",
       " strong multicollinearity or other numerical problems."
      ],
      "text/plain": [
       "<class 'statsmodels.iolib.summary.Summary'>\n",
       "\"\"\"\n",
       "                            OLS Regression Results                            \n",
       "==============================================================================\n",
       "Dep. Variable:        Life_Expectancy   R-squared:                       0.503\n",
       "Model:                            OLS   Adj. R-squared:                  0.500\n",
       "Method:                 Least Squares   F-statistic:                     166.8\n",
       "Date:                Sat, 30 Sep 2023   Prob (F-statistic):           8.13e-27\n",
       "Time:                        13:37:40   Log-Likelihood:                -513.64\n",
       "No. Observations:                 167   AIC:                             1031.\n",
       "Df Residuals:                     165   BIC:                             1038.\n",
       "Df Model:                           1                                         \n",
       "Covariance Type:            nonrobust                                         \n",
       "==================================================================================\n",
       "                     coef    std err          t      P>|t|      [0.025      0.975]\n",
       "----------------------------------------------------------------------------------\n",
       "Intercept         67.9940      0.566    120.197      0.000      66.877      69.111\n",
       "GDP_Per_Capita     0.0002   1.79e-05     12.915      0.000       0.000       0.000\n",
       "==============================================================================\n",
       "Omnibus:                       20.455   Durbin-Watson:                   1.919\n",
       "Prob(Omnibus):                  0.000   Jarque-Bera (JB):               24.319\n",
       "Skew:                          -0.923   Prob(JB):                     5.24e-06\n",
       "Kurtosis:                       3.295   Cond. No.                     4.39e+04\n",
       "==============================================================================\n",
       "\n",
       "Notes:\n",
       "[1] Standard Errors assume that the covariance matrix of the errors is correctly specified.\n",
       "[2] The condition number is large, 4.39e+04. This might indicate that there are\n",
       "strong multicollinearity or other numerical problems.\n",
       "\"\"\""
      ]
     },
     "execution_count": 5,
     "metadata": {},
     "output_type": "execute_result"
    }
   ],
   "source": [
    "lm = smf.ols('Life_Expectancy ~ GDP_Per_Capita', data = gdp_le_2019).fit()\n",
    "lm.summary()"
   ]
  },
  {
   "cell_type": "markdown",
   "id": "bf5cf0a8",
   "metadata": {},
   "source": [
    "**Question:** How can we interpret the meaning of the coefficient for GDP_Per_Capita?\n",
    "\n",
    "The mean is 67.9940"
   ]
  },
  {
   "cell_type": "markdown",
   "id": "60bc3252",
   "metadata": {},
   "source": [
    "It might make it easier to interpret if we changed the units on GDP_Per_Capita since a one unit change in GDP per capita does not have a very large impact at all on GDP_Per_Capita.\n",
    "\n",
    "Fit a new model, but this time use thousands of dollars of GDP_Per_Capita as your predictor variable.\n",
    "\n",
    "**Hint:** Two ways that you can accomplish this are by creating a new column in your DataFrame or by making use of `I()` in your formula."
   ]
  },
  {
   "cell_type": "code",
   "execution_count": 7,
   "id": "552d958a",
   "metadata": {},
   "outputs": [
    {
     "data": {
      "text/html": [
       "<table class=\"simpletable\">\n",
       "<caption>OLS Regression Results</caption>\n",
       "<tr>\n",
       "  <th>Dep. Variable:</th>     <td>Life_Expectancy</td> <th>  R-squared:         </th> <td>   0.503</td>\n",
       "</tr>\n",
       "<tr>\n",
       "  <th>Model:</th>                   <td>OLS</td>       <th>  Adj. R-squared:    </th> <td>   0.500</td>\n",
       "</tr>\n",
       "<tr>\n",
       "  <th>Method:</th>             <td>Least Squares</td>  <th>  F-statistic:       </th> <td>   166.8</td>\n",
       "</tr>\n",
       "<tr>\n",
       "  <th>Date:</th>             <td>Sat, 30 Sep 2023</td> <th>  Prob (F-statistic):</th> <td>8.13e-27</td>\n",
       "</tr>\n",
       "<tr>\n",
       "  <th>Time:</th>                 <td>13:37:54</td>     <th>  Log-Likelihood:    </th> <td> -513.64</td>\n",
       "</tr>\n",
       "<tr>\n",
       "  <th>No. Observations:</th>      <td>   167</td>      <th>  AIC:               </th> <td>   1031.</td>\n",
       "</tr>\n",
       "<tr>\n",
       "  <th>Df Residuals:</th>          <td>   165</td>      <th>  BIC:               </th> <td>   1038.</td>\n",
       "</tr>\n",
       "<tr>\n",
       "  <th>Df Model:</th>              <td>     1</td>      <th>                     </th>     <td> </td>   \n",
       "</tr>\n",
       "<tr>\n",
       "  <th>Covariance Type:</th>      <td>nonrobust</td>    <th>                     </th>     <td> </td>   \n",
       "</tr>\n",
       "</table>\n",
       "<table class=\"simpletable\">\n",
       "<tr>\n",
       "              <td></td>                <th>coef</th>     <th>std err</th>      <th>t</th>      <th>P>|t|</th>  <th>[0.025</th>    <th>0.975]</th>  \n",
       "</tr>\n",
       "<tr>\n",
       "  <th>Intercept</th>                <td>   67.9940</td> <td>    0.566</td> <td>  120.197</td> <td> 0.000</td> <td>   66.877</td> <td>   69.111</td>\n",
       "</tr>\n",
       "<tr>\n",
       "  <th>I(GDP_Per_Capita / 1000)</th> <td>    0.2307</td> <td>    0.018</td> <td>   12.915</td> <td> 0.000</td> <td>    0.195</td> <td>    0.266</td>\n",
       "</tr>\n",
       "</table>\n",
       "<table class=\"simpletable\">\n",
       "<tr>\n",
       "  <th>Omnibus:</th>       <td>20.455</td> <th>  Durbin-Watson:     </th> <td>   1.919</td>\n",
       "</tr>\n",
       "<tr>\n",
       "  <th>Prob(Omnibus):</th> <td> 0.000</td> <th>  Jarque-Bera (JB):  </th> <td>  24.319</td>\n",
       "</tr>\n",
       "<tr>\n",
       "  <th>Skew:</th>          <td>-0.923</td> <th>  Prob(JB):          </th> <td>5.24e-06</td>\n",
       "</tr>\n",
       "<tr>\n",
       "  <th>Kurtosis:</th>      <td> 3.295</td> <th>  Cond. No.          </th> <td>    43.9</td>\n",
       "</tr>\n",
       "</table><br/><br/>Notes:<br/>[1] Standard Errors assume that the covariance matrix of the errors is correctly specified."
      ],
      "text/latex": [
       "\\begin{center}\n",
       "\\begin{tabular}{lclc}\n",
       "\\toprule\n",
       "\\textbf{Dep. Variable:}             & Life\\_Expectancy & \\textbf{  R-squared:         } &     0.503   \\\\\n",
       "\\textbf{Model:}                     &       OLS        & \\textbf{  Adj. R-squared:    } &     0.500   \\\\\n",
       "\\textbf{Method:}                    &  Least Squares   & \\textbf{  F-statistic:       } &     166.8   \\\\\n",
       "\\textbf{Date:}                      & Sat, 30 Sep 2023 & \\textbf{  Prob (F-statistic):} &  8.13e-27   \\\\\n",
       "\\textbf{Time:}                      &     13:37:54     & \\textbf{  Log-Likelihood:    } &   -513.64   \\\\\n",
       "\\textbf{No. Observations:}          &         167      & \\textbf{  AIC:               } &     1031.   \\\\\n",
       "\\textbf{Df Residuals:}              &         165      & \\textbf{  BIC:               } &     1038.   \\\\\n",
       "\\textbf{Df Model:}                  &           1      & \\textbf{                     } &             \\\\\n",
       "\\textbf{Covariance Type:}           &    nonrobust     & \\textbf{                     } &             \\\\\n",
       "\\bottomrule\n",
       "\\end{tabular}\n",
       "\\begin{tabular}{lcccccc}\n",
       "                                    & \\textbf{coef} & \\textbf{std err} & \\textbf{t} & \\textbf{P$> |$t$|$} & \\textbf{[0.025} & \\textbf{0.975]}  \\\\\n",
       "\\midrule\n",
       "\\textbf{Intercept}                  &      67.9940  &        0.566     &   120.197  &         0.000        &       66.877    &       69.111     \\\\\n",
       "\\textbf{I(GDP\\_Per\\_Capita / 1000)} &       0.2307  &        0.018     &    12.915  &         0.000        &        0.195    &        0.266     \\\\\n",
       "\\bottomrule\n",
       "\\end{tabular}\n",
       "\\begin{tabular}{lclc}\n",
       "\\textbf{Omnibus:}       & 20.455 & \\textbf{  Durbin-Watson:     } &    1.919  \\\\\n",
       "\\textbf{Prob(Omnibus):} &  0.000 & \\textbf{  Jarque-Bera (JB):  } &   24.319  \\\\\n",
       "\\textbf{Skew:}          & -0.923 & \\textbf{  Prob(JB):          } & 5.24e-06  \\\\\n",
       "\\textbf{Kurtosis:}      &  3.295 & \\textbf{  Cond. No.          } &     43.9  \\\\\n",
       "\\bottomrule\n",
       "\\end{tabular}\n",
       "%\\caption{OLS Regression Results}\n",
       "\\end{center}\n",
       "\n",
       "Notes: \\newline\n",
       " [1] Standard Errors assume that the covariance matrix of the errors is correctly specified."
      ],
      "text/plain": [
       "<class 'statsmodels.iolib.summary.Summary'>\n",
       "\"\"\"\n",
       "                            OLS Regression Results                            \n",
       "==============================================================================\n",
       "Dep. Variable:        Life_Expectancy   R-squared:                       0.503\n",
       "Model:                            OLS   Adj. R-squared:                  0.500\n",
       "Method:                 Least Squares   F-statistic:                     166.8\n",
       "Date:                Sat, 30 Sep 2023   Prob (F-statistic):           8.13e-27\n",
       "Time:                        13:37:54   Log-Likelihood:                -513.64\n",
       "No. Observations:                 167   AIC:                             1031.\n",
       "Df Residuals:                     165   BIC:                             1038.\n",
       "Df Model:                           1                                         \n",
       "Covariance Type:            nonrobust                                         \n",
       "============================================================================================\n",
       "                               coef    std err          t      P>|t|      [0.025      0.975]\n",
       "--------------------------------------------------------------------------------------------\n",
       "Intercept                   67.9940      0.566    120.197      0.000      66.877      69.111\n",
       "I(GDP_Per_Capita / 1000)     0.2307      0.018     12.915      0.000       0.195       0.266\n",
       "==============================================================================\n",
       "Omnibus:                       20.455   Durbin-Watson:                   1.919\n",
       "Prob(Omnibus):                  0.000   Jarque-Bera (JB):               24.319\n",
       "Skew:                          -0.923   Prob(JB):                     5.24e-06\n",
       "Kurtosis:                       3.295   Cond. No.                         43.9\n",
       "==============================================================================\n",
       "\n",
       "Notes:\n",
       "[1] Standard Errors assume that the covariance matrix of the errors is correctly specified.\n",
       "\"\"\""
      ]
     },
     "execution_count": 7,
     "metadata": {},
     "output_type": "execute_result"
    }
   ],
   "source": [
    "lm = smf.ols('Life_Expectancy ~ I(GDP_Per_Capita/1000)', data = gdp_le_2019).fit()\n",
    "lm.summary()"
   ]
  },
  {
   "cell_type": "markdown",
   "id": "d488a5d9",
   "metadata": {},
   "source": [
    "**Questions:** How do we interpret the meaning of the coefficients for the new model?\n",
    "\n",
    "The mean is 67.9940 and it increases at a rate of .2307 as GDP_per_cap increases with life expectancy. "
   ]
  },
  {
   "cell_type": "markdown",
   "id": "86296c00",
   "metadata": {},
   "source": [
    "Now, let's plot the fitted values against the original data."
   ]
  },
  {
   "cell_type": "code",
   "execution_count": 8,
   "id": "a4c2b5f6",
   "metadata": {},
   "outputs": [
    {
     "data": {
      "image/png": "[encoded data removed]",
      "text/plain": [
       "<Figure size 640x480 with 1 Axes>"
      ]
     },
     "metadata": {},
     "output_type": "display_data"
    }
   ],
   "source": [
    "ax = gdp_le_2019.plot(x = 'GDP_Per_Capita', y = 'Life_Expectancy', kind = 'scatter')\n",
    "\n",
    "fit_df = pd.DataFrame({\n",
    "    'GDP_Per_Capita': np.linspace(\n",
    "        start = gdp_le_2019['GDP_Per_Capita'].min(),\n",
    "        stop = gdp_le_2019['GDP_Per_Capita'].max(), \n",
    "        num = 150)})\n",
    "fit_df['fitted'] = lm.predict(fit_df)\n",
    "\n",
    "fit_df.plot(x = 'GDP_Per_Capita', y = 'fitted', ax = ax, color = 'black', label = 'fitted');"
   ]
  },
  {
   "cell_type": "markdown",
   "id": "65cd9da5",
   "metadata": {},
   "source": [
    "**Question:** What potential problems do you see with this fit?"
   ]
  },
  {
   "cell_type": "markdown",
   "id": "0b8636b6",
   "metadata": {},
   "source": [
    "You saw from the guided exploration portion of the project that using the logarithm of the GDP resulted in a larger correlation value. \n",
    "\n",
    "Fit a new model using the log of GDP Per Capita as a predictor variable.\n",
    "\n",
    "**Hint:** You can do this by using `'Life_Expectancy ~ np.log(GDP_Per_Capita)'` as your formula."
   ]
  },
  {
   "cell_type": "code",
   "execution_count": 9,
   "id": "aa56f96c",
   "metadata": {},
   "outputs": [
    {
     "data": {
      "text/html": [
       "<table class=\"simpletable\">\n",
       "<caption>OLS Regression Results</caption>\n",
       "<tr>\n",
       "  <th>Dep. Variable:</th>     <td>Life_Expectancy</td> <th>  R-squared:         </th> <td>   0.720</td>\n",
       "</tr>\n",
       "<tr>\n",
       "  <th>Model:</th>                   <td>OLS</td>       <th>  Adj. R-squared:    </th> <td>   0.718</td>\n",
       "</tr>\n",
       "<tr>\n",
       "  <th>Method:</th>             <td>Least Squares</td>  <th>  F-statistic:       </th> <td>   424.2</td>\n",
       "</tr>\n",
       "<tr>\n",
       "  <th>Date:</th>             <td>Sat, 30 Sep 2023</td> <th>  Prob (F-statistic):</th> <td>1.82e-47</td>\n",
       "</tr>\n",
       "<tr>\n",
       "  <th>Time:</th>                 <td>13:50:14</td>     <th>  Log-Likelihood:    </th> <td> -465.69</td>\n",
       "</tr>\n",
       "<tr>\n",
       "  <th>No. Observations:</th>      <td>   167</td>      <th>  AIC:               </th> <td>   935.4</td>\n",
       "</tr>\n",
       "<tr>\n",
       "  <th>Df Residuals:</th>          <td>   165</td>      <th>  BIC:               </th> <td>   941.6</td>\n",
       "</tr>\n",
       "<tr>\n",
       "  <th>Df Model:</th>              <td>     1</td>      <th>                     </th>     <td> </td>   \n",
       "</tr>\n",
       "<tr>\n",
       "  <th>Covariance Type:</th>      <td>nonrobust</td>    <th>                     </th>     <td> </td>   \n",
       "</tr>\n",
       "</table>\n",
       "<table class=\"simpletable\">\n",
       "<tr>\n",
       "                <td></td>                   <th>coef</th>     <th>std err</th>      <th>t</th>      <th>P>|t|</th>  <th>[0.025</th>    <th>0.975]</th>  \n",
       "</tr>\n",
       "<tr>\n",
       "  <th>Intercept</th>                     <td>   59.3364</td> <td>    0.733</td> <td>   80.945</td> <td> 0.000</td> <td>   57.889</td> <td>   60.784</td>\n",
       "</tr>\n",
       "<tr>\n",
       "  <th>np.log(GDP_Per_Capita / 1000)</th> <td>    5.4472</td> <td>    0.264</td> <td>   20.596</td> <td> 0.000</td> <td>    4.925</td> <td>    5.969</td>\n",
       "</tr>\n",
       "</table>\n",
       "<table class=\"simpletable\">\n",
       "<tr>\n",
       "  <th>Omnibus:</th>       <td>33.242</td> <th>  Durbin-Watson:     </th> <td>   2.211</td>\n",
       "</tr>\n",
       "<tr>\n",
       "  <th>Prob(Omnibus):</th> <td> 0.000</td> <th>  Jarque-Bera (JB):  </th> <td>  53.032</td>\n",
       "</tr>\n",
       "<tr>\n",
       "  <th>Skew:</th>          <td>-1.028</td> <th>  Prob(JB):          </th> <td>3.05e-12</td>\n",
       "</tr>\n",
       "<tr>\n",
       "  <th>Kurtosis:</th>      <td> 4.843</td> <th>  Cond. No.          </th> <td>    7.36</td>\n",
       "</tr>\n",
       "</table><br/><br/>Notes:<br/>[1] Standard Errors assume that the covariance matrix of the errors is correctly specified."
      ],
      "text/latex": [
       "\\begin{center}\n",
       "\\begin{tabular}{lclc}\n",
       "\\toprule\n",
       "\\textbf{Dep. Variable:}                  & Life\\_Expectancy & \\textbf{  R-squared:         } &     0.720   \\\\\n",
       "\\textbf{Model:}                          &       OLS        & \\textbf{  Adj. R-squared:    } &     0.718   \\\\\n",
       "\\textbf{Method:}                         &  Least Squares   & \\textbf{  F-statistic:       } &     424.2   \\\\\n",
       "\\textbf{Date:}                           & Sat, 30 Sep 2023 & \\textbf{  Prob (F-statistic):} &  1.82e-47   \\\\\n",
       "\\textbf{Time:}                           &     13:50:14     & \\textbf{  Log-Likelihood:    } &   -465.69   \\\\\n",
       "\\textbf{No. Observations:}               &         167      & \\textbf{  AIC:               } &     935.4   \\\\\n",
       "\\textbf{Df Residuals:}                   &         165      & \\textbf{  BIC:               } &     941.6   \\\\\n",
       "\\textbf{Df Model:}                       &           1      & \\textbf{                     } &             \\\\\n",
       "\\textbf{Covariance Type:}                &    nonrobust     & \\textbf{                     } &             \\\\\n",
       "\\bottomrule\n",
       "\\end{tabular}\n",
       "\\begin{tabular}{lcccccc}\n",
       "                                         & \\textbf{coef} & \\textbf{std err} & \\textbf{t} & \\textbf{P$> |$t$|$} & \\textbf{[0.025} & \\textbf{0.975]}  \\\\\n",
       "\\midrule\n",
       "\\textbf{Intercept}                       &      59.3364  &        0.733     &    80.945  &         0.000        &       57.889    &       60.784     \\\\\n",
       "\\textbf{np.log(GDP\\_Per\\_Capita / 1000)} &       5.4472  &        0.264     &    20.596  &         0.000        &        4.925    &        5.969     \\\\\n",
       "\\bottomrule\n",
       "\\end{tabular}\n",
       "\\begin{tabular}{lclc}\n",
       "\\textbf{Omnibus:}       & 33.242 & \\textbf{  Durbin-Watson:     } &    2.211  \\\\\n",
       "\\textbf{Prob(Omnibus):} &  0.000 & \\textbf{  Jarque-Bera (JB):  } &   53.032  \\\\\n",
       "\\textbf{Skew:}          & -1.028 & \\textbf{  Prob(JB):          } & 3.05e-12  \\\\\n",
       "\\textbf{Kurtosis:}      &  4.843 & \\textbf{  Cond. No.          } &     7.36  \\\\\n",
       "\\bottomrule\n",
       "\\end{tabular}\n",
       "%\\caption{OLS Regression Results}\n",
       "\\end{center}\n",
       "\n",
       "Notes: \\newline\n",
       " [1] Standard Errors assume that the covariance matrix of the errors is correctly specified."
      ],
      "text/plain": [
       "<class 'statsmodels.iolib.summary.Summary'>\n",
       "\"\"\"\n",
       "                            OLS Regression Results                            \n",
       "==============================================================================\n",
       "Dep. Variable:        Life_Expectancy   R-squared:                       0.720\n",
       "Model:                            OLS   Adj. R-squared:                  0.718\n",
       "Method:                 Least Squares   F-statistic:                     424.2\n",
       "Date:                Sat, 30 Sep 2023   Prob (F-statistic):           1.82e-47\n",
       "Time:                        13:50:14   Log-Likelihood:                -465.69\n",
       "No. Observations:                 167   AIC:                             935.4\n",
       "Df Residuals:                     165   BIC:                             941.6\n",
       "Df Model:                           1                                         \n",
       "Covariance Type:            nonrobust                                         \n",
       "=================================================================================================\n",
       "                                    coef    std err          t      P>|t|      [0.025      0.975]\n",
       "-------------------------------------------------------------------------------------------------\n",
       "Intercept                        59.3364      0.733     80.945      0.000      57.889      60.784\n",
       "np.log(GDP_Per_Capita / 1000)     5.4472      0.264     20.596      0.000       4.925       5.969\n",
       "==============================================================================\n",
       "Omnibus:                       33.242   Durbin-Watson:                   2.211\n",
       "Prob(Omnibus):                  0.000   Jarque-Bera (JB):               53.032\n",
       "Skew:                          -1.028   Prob(JB):                     3.05e-12\n",
       "Kurtosis:                       4.843   Cond. No.                         7.36\n",
       "==============================================================================\n",
       "\n",
       "Notes:\n",
       "[1] Standard Errors assume that the covariance matrix of the errors is correctly specified.\n",
       "\"\"\""
      ]
     },
     "execution_count": 9,
     "metadata": {},
     "output_type": "execute_result"
    }
   ],
   "source": [
    "lm = smf.ols('Life_Expectancy ~ np.log(GDP_Per_Capita/1000)', data = gdp_le_2019).fit()\n",
    "lm.summary()"
   ]
  },
  {
   "cell_type": "markdown",
   "id": "d01799ae",
   "metadata": {},
   "source": [
    "**Difficult Question:** How do we interpret the meaning of the coefficient for log(GDP_Per_Capita)?\n",
    "\n",
    "There's a higher coefficient (5.4472). There's a higher rate of increase. "
   ]
  },
  {
   "cell_type": "markdown",
   "id": "eef328f9",
   "metadata": {},
   "source": [
    "Let's look at the plot of our fitted vales agains the data."
   ]
  },
  {
   "cell_type": "code",
   "execution_count": 10,
   "id": "ee1b8902",
   "metadata": {},
   "outputs": [
    {
     "data": {
      "image/png": "[encoded data removed]",
      "text/plain": [
       "<Figure size 640x480 with 1 Axes>"
      ]
     },
     "metadata": {},
     "output_type": "display_data"
    }
   ],
   "source": [
    "ax = gdp_le_2019.plot(x = 'GDP_Per_Capita', y = 'Life_Expectancy', kind = 'scatter')\n",
    "\n",
    "fit_df = pd.DataFrame({\n",
    "    'GDP_Per_Capita': np.linspace(\n",
    "        start = gdp_le_2019['GDP_Per_Capita'].min(),\n",
    "        stop = gdp_le_2019['GDP_Per_Capita'].max(), \n",
    "        num = 150)})\n",
    "fit_df['fitted'] = lm.predict(fit_df)\n",
    "\n",
    "fit_df.plot(x = 'GDP_Per_Capita', y = 'fitted', ax = ax, color = 'black', label = 'fitted');"
   ]
  },
  {
   "cell_type": "markdown",
   "id": "0dfcaf94",
   "metadata": {},
   "source": [
    "We can also look on the log scale."
   ]
  },
  {
   "cell_type": "code",
   "execution_count": 11,
   "id": "d94fb83b",
   "metadata": {},
   "outputs": [
    {
     "data": {
      "image/png": "[encoded data removed]",
      "text/plain": [
       "<Figure size 640x480 with 1 Axes>"
      ]
     },
     "metadata": {},
     "output_type": "display_data"
    }
   ],
   "source": [
    "gdp_le_2019['log_gdp'] = np.log(gdp_le_2019['GDP_Per_Capita'])\n",
    "\n",
    "ax = gdp_le_2019.plot(x = 'log_gdp', y = 'Life_Expectancy', kind = 'scatter')\n",
    "\n",
    "fit_df = pd.DataFrame({\n",
    "    'GDP_Per_Capita': np.linspace(\n",
    "        start = gdp_le_2019['GDP_Per_Capita'].min(),\n",
    "        stop = gdp_le_2019['GDP_Per_Capita'].max(), \n",
    "        num = 150)})\n",
    "fit_df['log_gdp'] = np.log(fit_df['GDP_Per_Capita'])\n",
    "fit_df['fitted'] = lm.predict(fit_df)\n",
    "\n",
    "fit_df.plot(x = 'log_gdp', y = 'fitted', ax = ax, color = 'black', label = 'fitted');"
   ]
  },
  {
   "cell_type": "markdown",
   "id": "a5aa596b",
   "metadata": {},
   "source": [
    "## Part 2: Life Expectancy Over Time\n",
    "\n",
    "Now, let's explore the relationship between health and wealth over time.\n",
    "\n",
    "First, using all data in gdp_le, fit a model for life expectancy based on number of years since 1990. (Hint: make use of I()) to help with this."
   ]
  },
  {
   "cell_type": "code",
   "execution_count": null,
   "id": "07fc8fe4",
   "metadata": {},
   "outputs": [],
   "source": [
    "lm = smf.ols('')\n",
    "lm.summary()"
   ]
  },
  {
   "cell_type": "markdown",
   "id": "1b2e1084",
   "metadata": {},
   "source": [
    "**Question:** How can you interpret the meaning of both of the coefficients of this model?"
   ]
  },
  {
   "cell_type": "markdown",
   "id": "42ae1ce2",
   "metadata": {},
   "source": [
    "We can compare the fit model to the data."
   ]
  },
  {
   "cell_type": "code",
   "execution_count": null,
   "id": "767508ba",
   "metadata": {},
   "outputs": [],
   "source": [
    "ax = gdp_le.plot(kind = 'scatter', x = 'Year', y = 'Life_Expectancy', alpha = 0.5)\n",
    "\n",
    "fit_df = pd.DataFrame({\n",
    "    'Year': np.linspace(\n",
    "        start = gdp_le['Year'].min(),\n",
    "        stop = gdp_le['Year'].max(), \n",
    "        num = 150)})\n",
    "fit_df['fitted'] = lm.predict(fit_df)\n",
    "\n",
    "fit_df.plot(x = 'Year', y = 'fitted', ax = ax, color = 'black', label = 'fitted');"
   ]
  },
  {
   "cell_type": "markdown",
   "id": "a0c61183",
   "metadata": {},
   "source": [
    "Perhaps we could do better if we include continent in our model. Fit a model which includes a term for Continent. (Don't include any interactions yet)."
   ]
  },
  {
   "cell_type": "code",
   "execution_count": null,
   "id": "c2ff1443",
   "metadata": {},
   "outputs": [],
   "source": [
    "lm_continent = # Fill this in\n",
    "lm_continent.summary()"
   ]
  },
  {
   "cell_type": "markdown",
   "id": "14a5bcb9",
   "metadata": {},
   "source": [
    "**Questions:**\n",
    "\n",
    "1. Is including a term for continent statistically significant?\n",
    "2. How do you interpret the meaning of the model coefficients?\n",
    "3. What does the model say about European vs. Asian vs. African countries with respect to life expectancy in 1990 and the increase over time of life expectancy?"
   ]
  },
  {
   "cell_type": "code",
   "execution_count": null,
   "id": "9777cf4f",
   "metadata": {},
   "outputs": [],
   "source": [
    "# Fill in the code to check if the term for continent is significant"
   ]
  },
  {
   "cell_type": "markdown",
   "id": "3049e2d9",
   "metadata": {},
   "source": [
    "Adjust the `continent` variable below to see the fitted vs. actual values by continent. What do you notice?"
   ]
  },
  {
   "cell_type": "code",
   "execution_count": null,
   "id": "8ef09094",
   "metadata": {},
   "outputs": [],
   "source": [
    "continent = 'Asia'\n",
    "\n",
    "sub_df = gdp_le[gdp_le['Continent'] == continent]\n",
    "\n",
    "ax = sub_df.plot(x = 'Year', \n",
    "                 y = 'Life_Expectancy',\n",
    "                 kind = 'scatter',\n",
    "                 title = continent,\n",
    "                 alpha = 0.6)\n",
    "\n",
    "fit_df = pd.DataFrame({\n",
    "    'Year': np.linspace(start = sub_df['Year'].min(),\n",
    "                                  stop = sub_df['Year'].max()\n",
    "                                 ),\n",
    "    'Continent': continent\n",
    "})\n",
    "fit_df['fitted'] = lm_continent.predict(fit_df)\n",
    "fit_df.plot(x = 'Year', y = 'fitted', ax = ax, color = 'black', label = 'fitted');"
   ]
  },
  {
   "cell_type": "markdown",
   "id": "46f73b95",
   "metadata": {},
   "source": [
    "Now, add an interaction term between Continent and Year to your model."
   ]
  },
  {
   "cell_type": "code",
   "execution_count": null,
   "id": "d9db0bac",
   "metadata": {},
   "outputs": [],
   "source": [
    "lm_continent_int = # Fill This in\n",
    "lm_continent_int.summary()"
   ]
  },
  {
   "cell_type": "markdown",
   "id": "2eae5023",
   "metadata": {},
   "source": [
    "**Questions:** \n",
    "1. Are the interaction terms statistically significant?\n",
    "2. What does the model say about European vs. Asian vs. African countries with respect to life expectancy in 1990 and the increase over time of life expectancy?"
   ]
  },
  {
   "cell_type": "code",
   "execution_count": null,
   "id": "bc5fc90d",
   "metadata": {},
   "outputs": [],
   "source": [
    "# Fill in the code to check if the interaction terms are significant"
   ]
  },
  {
   "cell_type": "markdown",
   "id": "944e5d02",
   "metadata": {},
   "source": [
    "You can uses the code in the next cell to explore the output from the new model."
   ]
  },
  {
   "cell_type": "code",
   "execution_count": null,
   "id": "3edeae5d",
   "metadata": {},
   "outputs": [],
   "source": [
    "continent = 'Asia'\n",
    "\n",
    "sub_df = gdp_le[gdp_le['Continent'] == continent]\n",
    "\n",
    "ax = sub_df.plot(x = 'Year', \n",
    "                 y = 'Life_Expectancy',\n",
    "                 kind = 'scatter',\n",
    "                 title = continent,\n",
    "                 alpha = 0.6)\n",
    "\n",
    "fit_df = pd.DataFrame({\n",
    "    'Year': np.linspace(start = sub_df['Year'].min(),\n",
    "                        stop = sub_df['Year'].max()\n",
    "                       ),\n",
    "    'Continent': continent\n",
    "})\n",
    "fit_df['fitted_no_interactions'] = lm_continent.predict(fit_df)\n",
    "fit_df['fitted_interactions'] = lm_continent_int.predict(fit_df)\n",
    "fit_df.plot(x = 'Year', y = 'fitted_no_interactions', ax = ax, color = 'black', label = 'fitted_no_interactions')\n",
    "fit_df.plot(x = 'Year', y = 'fitted_interactions', ax = ax, color = 'blue', label = 'fitted_interactions');"
   ]
  },
  {
   "cell_type": "markdown",
   "id": "a7e1f96d",
   "metadata": {},
   "source": [
    "## Part 3: The Effect of Wealth on Health\n",
    "\n",
    "Now, let's try and uncover the effect of wealth on health, after accounting for the effect of Continent and year.\n",
    "\n",
    "Fit a model that builds off of your previous model but includes a term for the log of gdp per capita."
   ]
  },
  {
   "cell_type": "code",
   "execution_count": null,
   "id": "db912a1d",
   "metadata": {},
   "outputs": [],
   "source": [
    "lm_gdp = # Fill this in\n",
    "lm_gdp.summary()"
   ]
  },
  {
   "cell_type": "markdown",
   "id": "c8230663",
   "metadata": {},
   "source": [
    "**Question:** How do we interpret the coefficient of log(gdp)?"
   ]
  },
  {
   "cell_type": "code",
   "execution_count": null,
   "id": "6da0856e",
   "metadata": {},
   "outputs": [],
   "source": [
    "gdp_le['log_gdp'] = np.log(gdp_le['GDP_Per_Capita'])"
   ]
  },
  {
   "cell_type": "markdown",
   "id": "e68b4db9",
   "metadata": {},
   "source": [
    "The resulting model looks at gdp vs. life expectancy by continent. You can explore how the fitted values compare to the actual values by adjusting the values for year and continent below."
   ]
  },
  {
   "cell_type": "code",
   "execution_count": null,
   "id": "ef2ffc5b",
   "metadata": {},
   "outputs": [],
   "source": [
    "year = 2019\n",
    "continent = 'Asia'\n",
    "\n",
    "sub_df = gdp_le[(gdp_le['Year'] == year) & (gdp_le['Continent'] == continent)]\n",
    "\n",
    "ax = sub_df.plot(x = 'log_gdp', y = 'Life_Expectancy', kind = 'scatter', title = f'{continent}, {year}')\n",
    "\n",
    "fit_df = pd.DataFrame({\n",
    "    'Year': year,\n",
    "    'Continent': continent,\n",
    "    'GDP_Per_Capita': np.linspace(start = sub_df['GDP_Per_Capita'].min(),\n",
    "                                  stop = sub_df['GDP_Per_Capita'].max()\n",
    "                                 )\n",
    "})\n",
    "fit_df['fitted'] = lm_gdp.predict(fit_df)\n",
    "fit_df['log_gdp'] = np.log(fit_df['GDP_Per_Capita'])\n",
    "fit_df.plot(x = 'log_gdp', y = 'fitted', ax = ax, color = 'black', label = 'fitted');"
   ]
  },
  {
   "cell_type": "markdown",
   "id": "0a10a80d",
   "metadata": {},
   "source": [
    "Perhaps we could estimate different effects of gdp per continent. Add an interaction term between continent and gdp."
   ]
  },
  {
   "cell_type": "code",
   "execution_count": null,
   "id": "f0b3b403",
   "metadata": {},
   "outputs": [],
   "source": [
    "lm_gdp_cont = #Your Code Here\n",
    "lm_gdp_cont.summary()"
   ]
  },
  {
   "cell_type": "markdown",
   "id": "a4b44d0d",
   "metadata": {},
   "source": [
    "**Questions:** \n",
    "1. Are the new interaction terms statistically significant?\n",
    "2. What does the model say about European vs. Asian vs. African countries with respect to the effect of gdp on life expectancy?"
   ]
  },
  {
   "cell_type": "code",
   "execution_count": null,
   "id": "828f963f",
   "metadata": {},
   "outputs": [],
   "source": [
    "# Fill in the code to check if the interaction term is significant"
   ]
  },
  {
   "cell_type": "code",
   "execution_count": null,
   "id": "22fa774d",
   "metadata": {},
   "outputs": [],
   "source": [
    "year = 2007\n",
    "continent = 'Africa'\n",
    "\n",
    "sub_df = gdp_le[(gdp_le['Year'] == year) & (gdp_le['Continent'] == continent)]\n",
    "\n",
    "ax = sub_df.plot(x = 'log_gdp', y = 'Life_Expectancy', kind = 'scatter', title = continent)\n",
    "\n",
    "fit_df = pd.DataFrame({\n",
    "    'Year': year,\n",
    "    'Continent': continent,\n",
    "    'GDP_Per_Capita': np.linspace(start = sub_df['GDP_Per_Capita'].min(),\n",
    "                                  stop = sub_df['GDP_Per_Capita'].max()\n",
    "                                 )\n",
    "})\n",
    "fit_df['fitted_no_interactions'] = lm_gdp.predict(fit_df)\n",
    "fit_df['fitted_interactions'] = lm_gdp_cont.predict(fit_df)\n",
    "fit_df['log_gdp'] = np.log(fit_df['GDP_Per_Capita'])\n",
    "fit_df.plot(x = 'log_gdp', y = 'fitted_no_interactions', ax = ax, color = 'black', label = 'fitted_no_interactions');\n",
    "fit_df.plot(x = 'log_gdp', y = 'fitted_interactions', ax = ax, color = 'blue', label = 'fitted_interactions');"
   ]
  },
  {
   "cell_type": "markdown",
   "id": "2e4c29ea",
   "metadata": {},
   "source": [
    "Finally, add an interaction term between log(gdp) and year."
   ]
  },
  {
   "cell_type": "code",
   "execution_count": null,
   "id": "60d7f438",
   "metadata": {},
   "outputs": [],
   "source": [
    "lm_gdp_cont_year = smf.ols('Life_Expectancy ~ I(Year - 1990) + Continent + Continent:(I(Year - 1990) + np.log(GDP_Per_Capita)) + np.log(GDP_Per_Capita) + np.log(GDP_Per_Capita):I(Year - 1990)', data = gdp_le).fit()\n",
    "lm_gdp_cont_year.summary()"
   ]
  },
  {
   "cell_type": "markdown",
   "id": "943e6b6e",
   "metadata": {},
   "source": [
    "**Question:** How do we interpret the new interaction term?"
   ]
  },
  {
   "cell_type": "code",
   "execution_count": null,
   "id": "cb6af109",
   "metadata": {},
   "outputs": [],
   "source": [
    "year = 2015\n",
    "continent = 'Asia'\n",
    "\n",
    "sub_df = gdp_le[(gdp_le['Year'] == year) & (gdp_le['Continent'] == continent)]\n",
    "\n",
    "ax = sub_df.plot(x = 'log_gdp', y = 'Life_Expectancy', kind = 'scatter', title = continent)\n",
    "\n",
    "fit_df = pd.DataFrame({\n",
    "    'Year': year,\n",
    "    'Continent': continent,\n",
    "    'GDP_Per_Capita': np.linspace(start = sub_df['GDP_Per_Capita'].min(),\n",
    "                                  stop = sub_df['GDP_Per_Capita'].max()\n",
    "                                 )\n",
    "})\n",
    "fit_df['year_interaction'] = lm_gdp_cont_year.predict(fit_df)\n",
    "fit_df['no_year_interaction'] = lm_gdp_cont.predict(fit_df)\n",
    "fit_df['log_gdp'] = np.log(fit_df['GDP_Per_Capita'])\n",
    "fit_df.plot(x = 'log_gdp', y = 'no_year_interaction', ax = ax, color = 'black', label = 'no_year_interaction');\n",
    "fit_df.plot(x = 'log_gdp', y = 'year_interaction', ax = ax, color = 'blue', label = 'year_interaction');"
   ]
  }
 ],
 "metadata": {
  "kernelspec": {
   "display_name": "Python 3 (ipykernel)",
   "language": "python",
   "name": "python3"
  },
  "language_info": {
   "codemirror_mode": {
    "name": "ipython",
    "version": 3
   },
   "file_extension": ".py",
   "mimetype": "text/x-python",
   "name": "python",
   "nbconvert_exporter": "python",
   "pygments_lexer": "ipython3",
   "version": "3.11.4"
  }
 },
 "nbformat": 4,
 "nbformat_minor": 5
}
